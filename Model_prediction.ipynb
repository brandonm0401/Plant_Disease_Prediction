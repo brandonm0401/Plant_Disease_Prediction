{
 "cells": [
  {
   "cell_type": "code",
   "execution_count": 1,
   "id": "ac3ae3d7-de5e-49d3-bf94-bcc898a5350a",
   "metadata": {},
   "outputs": [],
   "source": [
    "import tensorflow as tf\n",
    "import numpy as np\n",
    "from PIL import Image"
   ]
  },
  {
   "cell_type": "code",
   "execution_count": 2,
   "id": "7c6f59b0-8c3c-4a48-b5eb-eac410a8de96",
   "metadata": {},
   "outputs": [],
   "source": [
    "model = tf.keras.models.load_model(\"leaf_classifier.keras\")"
   ]
  },
  {
   "cell_type": "code",
   "execution_count": 13,
   "id": "f807d42a-5e13-43e9-aaca-eb0cbad405d4",
   "metadata": {},
   "outputs": [],
   "source": [
    "image_path = \"C:\\\\Users\\\\PC\\\\Desktop\\\\Leaf_Classification\\\\data\\\\predict\\\\0008_0148.JPG\""
   ]
  },
  {
   "cell_type": "code",
   "execution_count": 14,
   "id": "b1c2eaf4-67ff-47d4-8ddc-761e89a8b6ef",
   "metadata": {},
   "outputs": [
    {
     "name": "stdout",
     "output_type": "stream",
     "text": [
      "\u001b[1m1/1\u001b[0m \u001b[32m━━━━━━━━━━━━━━━━━━━━\u001b[0m\u001b[37m\u001b[0m \u001b[1m0s\u001b[0m 56ms/step\n",
      "99%\n",
      "Healthy\n"
     ]
    }
   ],
   "source": [
    "img = Image.open(image_path)\n",
    "img = img.resize((150,150))\n",
    "img_array = np.array(img)\n",
    "img_array = img_array/255.0\n",
    "img_array = np.expand_dims(img_array,axis=0)\n",
    "\n",
    "class_labels = ['Healthy','Unhealthy']\n",
    "prediction = model.predict(img_array)\n",
    "print(f\"{round(np.max(prediction)*100)}%\",)\n",
    "print(class_labels[np.argmax(prediction)])"
   ]
  },
  {
   "cell_type": "code",
   "execution_count": null,
   "id": "b0d525c3-76e0-4cec-9318-f4d98d04e514",
   "metadata": {},
   "outputs": [],
   "source": []
  }
 ],
 "metadata": {
  "kernelspec": {
   "display_name": "Python 3 (ipykernel)",
   "language": "python",
   "name": "python3"
  },
  "language_info": {
   "codemirror_mode": {
    "name": "ipython",
    "version": 3
   },
   "file_extension": ".py",
   "mimetype": "text/x-python",
   "name": "python",
   "nbconvert_exporter": "python",
   "pygments_lexer": "ipython3",
   "version": "3.12.4"
  }
 },
 "nbformat": 4,
 "nbformat_minor": 5
}
